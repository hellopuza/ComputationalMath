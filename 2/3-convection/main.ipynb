{
 "cells": [
  {
   "attachments": {},
   "cell_type": "markdown",
   "id": "349851de",
   "metadata": {},
   "source": [
    "# Лабораторная работа \"Уравнение переноса\""
   ]
  },
  {
   "cell_type": "code",
   "execution_count": 1,
   "id": "836f73b8",
   "metadata": {},
   "outputs": [],
   "source": [
    "import copy\n",
    "import numpy as np\n",
    "import matplotlib.pyplot as plt\n",
    "from matplotlib import cm\n",
    "import math as m\n",
    "from ipywidgets import interact, widgets, interactive\n",
    "import warnings\n",
    "warnings.filterwarnings('ignore')\n",
    "\n",
    "class GridFunction:\n",
    "    def __init__(self, a, b, h, ydim=1):\n",
    "        a = np.asarray(a)\n",
    "        b = np.asarray(b)\n",
    "        h = np.asarray(h)\n",
    "        self.ydim = ydim\n",
    "        self.xdim = 1 if np.shape(a) == () else np.shape(a)[0]\n",
    "\n",
    "        if self.xdim > 1:\n",
    "            self.n = ((np.array(b) - a) / h).astype(int) + np.ones(self.xdim, dtype=int)\n",
    "        else:\n",
    "            self.n = int((b - a) / h) + 1\n",
    "\n",
    "        self.a = a\n",
    "        self.b = a + h * (self.n - 1)\n",
    "        self.h = h\n",
    "\n",
    "        if self.xdim == 1:\n",
    "            self.x = np.zeros(self.n)\n",
    "            for i in range(self.n):\n",
    "                self.x[i] = a + self.h * i\n",
    "        else:\n",
    "            self.x = np.zeros(np.append(self.n, self.xdim))\n",
    "            for i in np.ndindex(tuple(self.n)):\n",
    "                self.x[i] = a + self.h * i\n",
    "\n",
    "        if self.ydim == 0:\n",
    "            self.y = [[0]] * self.n\n",
    "        elif self.ydim == 1:\n",
    "            self.y = np.zeros(self.n)\n",
    "        else:\n",
    "            self.y = np.zeros(np.append(self.n, self.ydim))\n",
    "\n",
    "    def calc(self, func):\n",
    "        self.f = func\n",
    "        if self.xdim == 1:\n",
    "            for i in range(self.n):\n",
    "                self.y[i] = func(self.x[i])\n",
    "        else:\n",
    "            for i in np.ndindex(tuple(self.n)):\n",
    "                self.y[i] = func(self.x[i])\n",
    "\n",
    "    def plot(self, xaxis=None, marker='', label='', title_str='', figsize=(9, 6), new=True, ext_plt=None):\n",
    "        if new and ext_plt is None and xaxis != '3d':\n",
    "            fig, self.ax = plt.subplots(figsize=figsize)\n",
    "            self.ax.set(xlabel='x', ylabel='y', title=title_str)\n",
    "            self.ax.grid()\n",
    "\n",
    "        if ext_plt is not None:\n",
    "            self.ax = ext_plt\n",
    "\n",
    "        if self.ydim == 0:\n",
    "            x = []\n",
    "            y = []\n",
    "            for i in range(self.n):\n",
    "                for j in range(len(self.y[i])):\n",
    "                    x.append(self.x[i])\n",
    "                    y.append(self.y[i][j])\n",
    "\n",
    "            if label == '':\n",
    "                self.ax.scatter(x, y, s=0.3)\n",
    "            else:\n",
    "                self.ax.scatter(x, y, s=0.3, label=label)\n",
    "                self.ax.legend()\n",
    "        else:\n",
    "            x = self.x\n",
    "            y = self.y\n",
    "\n",
    "            if xaxis is not None:\n",
    "                if xaxis == '3d':\n",
    "                    x = np.split(self.x, 2, 2)[0][::, ::self.n[1]].reshape(self.n[0])\n",
    "                    y = np.split(self.x, 2, 2)[1][0].reshape(self.n[1])\n",
    "                    x, y = np.meshgrid(x, y)\n",
    "                    x = np.transpose(x)\n",
    "                    y = np.transpose(y)\n",
    "                    z = self.y\n",
    "\n",
    "                    fig, ax = plt.subplots(subplot_kw={\"projection\": \"3d\"})\n",
    "                    ax.plot_surface(x, y, z, linewidth=0, antialiased=False, cmap=cm.coolwarm)\n",
    "                    return\n",
    "                else:\n",
    "                    x = np.split(self.x, 2, 2)[0][::, ::self.n[1]].reshape(self.n[0])\n",
    "                    y = np.split(self.y, self.n[1], 1)[xaxis].reshape(self.n[0])\n",
    "\n",
    "            if label == '':\n",
    "                self.ax.plot(x, y, marker)\n",
    "            else:\n",
    "                self.ax.plot(x, y, marker, label=label)\n",
    "                self.ax.legend()\n",
    "\n",
    "def tridiagonal(a, b, c, d):\n",
    "    nf = len(d)\n",
    "    for it in range(1, nf):\n",
    "        mc = a[it] / b[it - 1]\n",
    "        b[it] = b[it] - mc * c[it - 1]\n",
    "        d[it] = d[it] - mc * d[it - 1]\n",
    "\n",
    "    x = b\n",
    "    x[-1] = d[-1] / b[-1]\n",
    "    for il in range(nf - 2, -1, -1):\n",
    "        x[il] = (d[il] - c[il] * x[il + 1]) / b[il]\n",
    "\n",
    "    return x\n",
    "\n",
    "def init(gf, phi, psi):\n",
    "    for n in range(gf.n[1]):\n",
    "        gf.y[0, n] = psi(gf.x[0, n][1])\n",
    "\n",
    "    for i in range(gf.n[0]):\n",
    "        gf.y[i, 0] = phi(gf.x[i, 0][0])\n",
    "\n",
    "rd_angle     = lambda u, i, n, h, t, a: u[i, n] - t * a / h * (u[i, n] - u[i - 1, n])\n",
    "ru_angle     = lambda u, i, n, h, t, a: (u[i - 1, n] * a * t + h * u[i, n - 1]) / (h + a * t)\n",
    "lax_wendroff = lambda u, i, n, h, t, a: u[i, n] - 0.5 * t * a / h * (u[i + 1, n] * (1.0 - t * a / h) - u[i - 1, n] * (1.0 + t * a / h) + u[i, n] * t * a / h * 2.0)\n",
    "\n",
    "def right_ex_11(gf, phi, psi, a):\n",
    "    init(gf, phi, psi)\n",
    "    for n in range(1, gf.n[1]):\n",
    "        for i in range(1, gf.n[0]):\n",
    "            gf.y[i, n] = rd_angle(gf.y, i, n - 1, gf.h[0], gf.h[1], a)\n",
    "\n",
    "def right_im_11(gf, phi, psi, a):\n",
    "    init(gf, phi, psi)\n",
    "    for n in range(1, gf.n[1]):\n",
    "        for i in range(1, gf.n[0]):\n",
    "            gf.y[i, n] = ru_angle(gf.y, i, n, gf.h[0], gf.h[1], a)\n",
    "\n",
    "def lax_wendroff_ex_22(gf, phi, psi, a):\n",
    "    init(gf, phi, psi)\n",
    "    for n in range(1, gf.n[1]):\n",
    "        for i in range(1, gf.n[0] - 1):\n",
    "            gf.y[i, n] = lax_wendroff(gf.y, i, n - 1, gf.h[0], gf.h[1], a)\n",
    "        i = gf.n[0] - 1\n",
    "        gf.y[i, n] = rd_angle(gf.y, i, n - 1, gf.h[0], gf.h[1], a)"
   ]
  },
  {
   "attachments": {},
   "cell_type": "markdown",
   "id": "6df4d136",
   "metadata": {},
   "source": [
    "$$\n",
    "\\begin{equation*}\n",
    "    \\begin{cases}\n",
    "    u_t + au_x = 0, \\ 0<x<L, \\ 0<t<T, \\\\\n",
    "    u(x, 0) = \\phi(x) \\\\\n",
    "    u(0, t) = \\psi(t) \\\\\n",
    "    \\end{cases}\n",
    "\\end{equation*}\n",
    "$$"
   ]
  },
  {
   "cell_type": "code",
   "execution_count": 7,
   "id": "1ede6778",
   "metadata": {},
   "outputs": [
    {
     "data": {
      "application/vnd.jupyter.widget-view+json": {
       "model_id": "5a30c549229e451195bd10dc2d420779",
       "version_major": 2,
       "version_minor": 0
      },
      "text/plain": [
       "interactive(children=(FloatSlider(value=0.0, description='t', max=0.99, step=0.0001), Output()), _dom_classes=…"
      ]
     },
     "metadata": {},
     "output_type": "display_data"
    }
   ],
   "source": [
    "T = L = 10.0\n",
    "\n",
    "a = 1.0\n",
    "phi = lambda x: m.exp(-m.pow(x - 2.5, 2.0))\n",
    "psi = lambda t: phi(-a * t)\n",
    "\n",
    "c = 1.0\n",
    "h = 0.05\n",
    "tau = c * h / abs(a)\n",
    "\n",
    "gf1 = GridFunction([0.0, 0.0], [L, T], [h, tau])\n",
    "gf2 = GridFunction([0.0, 0.0], [L, T], [h, tau])\n",
    "gf3 = GridFunction([0.0, 0.0], [L, T], [h, tau])\n",
    "\n",
    "right_ex_11(gf1, phi, psi, a)\n",
    "right_im_11(gf2, phi, psi, a)\n",
    "lax_wendroff_ex_22(gf3, phi, psi, a)\n",
    "\n",
    "def plot_slice(t):\n",
    "    fig, ax = plt.subplots(1, 3, figsize=(15,5))\n",
    "    ax[0].set(title='Явный правый уголок')\n",
    "    ax[1].set(title='Неявный правый уголок')\n",
    "    ax[2].set(title='Схема Лакса-Вендроффа')\n",
    "    ax[0].grid(); ax[1].grid(); ax[2].grid()\n",
    "    ax[0].set_ylim([0.0, 1.5])\n",
    "    ax[1].set_ylim([0.0, 1.5])\n",
    "    ax[2].set_ylim([0.0, 1.5])\n",
    "\n",
    "    gf1.plot(xaxis=int(t * gf1.n[1]), ext_plt=ax[0])\n",
    "    gf2.plot(xaxis=int(t * gf2.n[1]), ext_plt=ax[1])\n",
    "    gf3.plot(xaxis=int(t * gf3.n[1]), ext_plt=ax[2])\n",
    "\n",
    "widg = interactive(plot_slice, t=widgets.FloatSlider(min=0.0,max=0.99,step=0.0001,value=0.0))\n",
    "widg"
   ]
  },
  {
   "cell_type": "code",
   "execution_count": 3,
   "id": "a229d403",
   "metadata": {},
   "outputs": [
    {
     "data": {
      "application/vnd.jupyter.widget-view+json": {
       "model_id": "431f329b8b09478899de4ad523b1955f",
       "version_major": 2,
       "version_minor": 0
      },
      "text/plain": [
       "interactive(children=(FloatSlider(value=0.0, description='t', max=0.99, step=0.0001), Output()), _dom_classes=…"
      ]
     },
     "metadata": {},
     "output_type": "display_data"
    }
   ],
   "source": [
    "T = L = 10.0\n",
    "\n",
    "a = 1.0\n",
    "phi = lambda x: 1.0 if 1.0 < x and x < 2.0 else 0.0\n",
    "psi = lambda t: phi(-a * t)\n",
    "\n",
    "c = 0.5\n",
    "h = 0.05\n",
    "tau = c * h / abs(a)\n",
    "\n",
    "gf1 = GridFunction([0.0, 0.0], [L, T], [h, tau])\n",
    "gf2 = GridFunction([0.0, 0.0], [L, T], [h, tau])\n",
    "gf3 = GridFunction([0.0, 0.0], [L, T], [h, tau])\n",
    "\n",
    "right_ex_11(gf1, phi, psi, a)\n",
    "right_im_11(gf2, phi, psi, a)\n",
    "lax_wendroff_ex_22(gf3, phi, psi, a)\n",
    "\n",
    "def plot_slice(t):\n",
    "    fig, ax = plt.subplots(1, 3, figsize=(15,5))\n",
    "    ax[0].set(title='Явный правый уголок')\n",
    "    ax[1].set(title='Неявный правый уголок')\n",
    "    ax[2].set(title='Схема Лакса-Вендроффа')\n",
    "    ax[0].grid(); ax[1].grid(); ax[2].grid()\n",
    "    ax[0].set_ylim([0.0, 1.5])\n",
    "    ax[1].set_ylim([0.0, 1.5])\n",
    "    ax[2].set_ylim([0.0, 1.5])\n",
    "\n",
    "    gf1.plot(xaxis=int(t * gf1.n[1]), ext_plt=ax[0])\n",
    "    gf2.plot(xaxis=int(t * gf2.n[1]), ext_plt=ax[1])\n",
    "    gf3.plot(xaxis=int(t * gf3.n[1]), ext_plt=ax[2])\n",
    "\n",
    "widg = interactive(plot_slice, t=widgets.FloatSlider(min=0.0,max=0.99,step=0.0001,value=0.0))\n",
    "widg"
   ]
  },
  {
   "cell_type": "code",
   "execution_count": 4,
   "id": "32233093",
   "metadata": {},
   "outputs": [
    {
     "data": {
      "application/vnd.jupyter.widget-view+json": {
       "model_id": "7aa7c2d9ac034e6c918c0a02b8af608f",
       "version_major": 2,
       "version_minor": 0
      },
      "text/plain": [
       "interactive(children=(FloatSlider(value=0.0, description='t', max=0.99, step=0.0001), Output()), _dom_classes=…"
      ]
     },
     "metadata": {},
     "output_type": "display_data"
    }
   ],
   "source": [
    "T = L = 10.0\n",
    "\n",
    "a = 1.0\n",
    "phi = lambda x: 1.0 if x < 2.0 else 0.0\n",
    "psi = lambda t: phi(-a * t)\n",
    "\n",
    "c = 0.5\n",
    "h = 0.05\n",
    "tau = c * h / abs(a)\n",
    "\n",
    "gf1 = GridFunction([0.0, 0.0], [L, T], [h, tau])\n",
    "gf2 = GridFunction([0.0, 0.0], [L, T], [h, tau])\n",
    "gf3 = GridFunction([0.0, 0.0], [L, T], [h, tau])\n",
    "\n",
    "right_ex_11(gf1, phi, psi, a)\n",
    "right_im_11(gf2, phi, psi, a)\n",
    "lax_wendroff_ex_22(gf3, phi, psi, a)\n",
    "\n",
    "def plot_slice(t):\n",
    "    fig, ax = plt.subplots(1, 3, figsize=(15,5))\n",
    "    ax[0].set(title='Явный правый уголок')\n",
    "    ax[1].set(title='Неявный правый уголок')\n",
    "    ax[2].set(title='Схема Лакса-Вендроффа')\n",
    "    ax[0].grid(); ax[1].grid(); ax[2].grid()\n",
    "    ax[0].set_ylim([0.0, 1.5])\n",
    "    ax[1].set_ylim([0.0, 1.5])\n",
    "    ax[2].set_ylim([0.0, 1.5])\n",
    "\n",
    "    gf1.plot(xaxis=int(t * gf1.n[1]), ext_plt=ax[0])\n",
    "    gf2.plot(xaxis=int(t * gf2.n[1]), ext_plt=ax[1])\n",
    "    gf3.plot(xaxis=int(t * gf3.n[1]), ext_plt=ax[2])\n",
    "\n",
    "widg = interactive(plot_slice, t=widgets.FloatSlider(min=0.0,max=0.99,step=0.0001,value=0.0))\n",
    "widg"
   ]
  },
  {
   "cell_type": "code",
   "execution_count": 5,
   "id": "caea2241",
   "metadata": {},
   "outputs": [
    {
     "data": {
      "application/vnd.jupyter.widget-view+json": {
       "model_id": "6d6824c17680446aa197d42aa0b793bb",
       "version_major": 2,
       "version_minor": 0
      },
      "text/plain": [
       "interactive(children=(FloatSlider(value=0.0, description='t', max=0.99, step=0.0001), Output()), _dom_classes=…"
      ]
     },
     "metadata": {},
     "output_type": "display_data"
    }
   ],
   "source": [
    "T = L = 10.0\n",
    "\n",
    "a = -1.0\n",
    "phi = lambda x: 1.0 if 8.0 < x else 0.0\n",
    "psi = lambda t: phi(-a * t)\n",
    "\n",
    "c = 0.5\n",
    "h = 0.05\n",
    "tau = c * h / abs(a)\n",
    "\n",
    "gf1 = GridFunction([0.0, 0.0], [L, T], [h, tau])\n",
    "gf2 = GridFunction([0.0, 0.0], [L, T], [h, tau])\n",
    "gf3 = GridFunction([0.0, 0.0], [L, T], [h, tau])\n",
    "\n",
    "right_ex_11(gf1, phi, psi, a)\n",
    "right_im_11(gf2, phi, psi, a)\n",
    "lax_wendroff_ex_22(gf3, phi, psi, a)\n",
    "\n",
    "def plot_slice(t):\n",
    "    fig, ax = plt.subplots(1, 3, figsize=(15,5))\n",
    "    ax[0].set(title='Явный правый уголок')\n",
    "    ax[1].set(title='Неявный правый уголок')\n",
    "    ax[2].set(title='Схема Лакса-Вендроффа')\n",
    "    ax[0].grid(); ax[1].grid(); ax[2].grid()\n",
    "    ax[0].set_ylim([0.0, 1.5])\n",
    "    ax[1].set_ylim([0.0, 1.5])\n",
    "    ax[2].set_ylim([0.0, 1.5])\n",
    "\n",
    "    gf1.plot(xaxis=int(t * gf1.n[1]), ext_plt=ax[0])\n",
    "    gf2.plot(xaxis=int(t * gf2.n[1]), ext_plt=ax[1])\n",
    "    gf3.plot(xaxis=int(t * gf3.n[1]), ext_plt=ax[2])\n",
    "\n",
    "widg = interactive(plot_slice, t=widgets.FloatSlider(min=0.0,max=0.99,step=0.0001,value=0.0))\n",
    "widg"
   ]
  },
  {
   "cell_type": "code",
   "execution_count": 6,
   "id": "dbe1abb5",
   "metadata": {},
   "outputs": [],
   "source": [
    "def plot_log_err(begin_h, end_h, step_h, method):\n",
    "    gf_err = GridFunction(begin_h, end_h, step_h)\n",
    "\n",
    "    for i in range(gf_err.n):\n",
    "        a = 1.0\n",
    "        phi = lambda x: m.exp(-m.pow(x - 2.5, 2.0))\n",
    "        psi = lambda t: phi(-a * t)\n",
    "\n",
    "        c = 0.9\n",
    "        h = gf_err.x[i]\n",
    "        tau = c * h / abs(a)\n",
    "\n",
    "        gf = GridFunction([0.0, 0.0], [L, T], [h, tau])\n",
    "        method(gf, phi, psi, a)\n",
    "\n",
    "        true_f = lambda x: phi(x[0] - a * x[1])\n",
    "        true_gf = GridFunction([0.0, 0.0], [L, T], [h, tau])\n",
    "        true_gf.calc(true_f)\n",
    "\n",
    "        err = np.amax(np.abs(gf.y - true_gf.y))\n",
    "        gf_err.y[i] = m.log(err)\n",
    "        gf_err.x[i] = m.log(gf_err.x[i])\n",
    "\n",
    "    fig, ax = plt.subplots(figsize=(6,6))\n",
    "    ax.grid()\n",
    "    gf_err.plot(ext_plt=ax)\n",
    "    k, b = np.polyfit(gf_err.x, gf_err.y, 1)\n",
    "    label = 'bestfit {:.2f}*x + {:.2f}'.format(k, b)\n",
    "    ax.plot(gf_err.x, k * gf_err.x + b, 'r-', linewidth=0.5, label=label)\n",
    "    ax.legend()"
   ]
  },
  {
   "attachments": {},
   "cell_type": "markdown",
   "id": "eaf14c8b",
   "metadata": {},
   "source": [
    "#### Явный правый уголок"
   ]
  },
  {
   "cell_type": "code",
   "execution_count": 261,
   "id": "f3fa4643",
   "metadata": {},
   "outputs": [
    {
     "data": {
      "image/png": "[encoded data removed]",
      "text/plain": [
       "<Figure size 600x600 with 1 Axes>"
      ]
     },
     "metadata": {},
     "output_type": "display_data"
    }
   ],
   "source": [
    "plot_log_err(0.01, 0.1, 0.01, right_ex_11)"
   ]
  },
  {
   "attachments": {},
   "cell_type": "markdown",
   "id": "4d85cecf",
   "metadata": {},
   "source": [
    "#### Неявный правый уголок"
   ]
  },
  {
   "cell_type": "code",
   "execution_count": 266,
   "id": "2b464265",
   "metadata": {},
   "outputs": [
    {
     "data": {
      "image/png": "[encoded data removed]",
      "text/plain": [
       "<Figure size 600x600 with 1 Axes>"
      ]
     },
     "metadata": {},
     "output_type": "display_data"
    }
   ],
   "source": [
    "plot_log_err(0.005, 0.01, 0.001, right_im_11)"
   ]
  },
  {
   "attachments": {},
   "cell_type": "markdown",
   "id": "bdf721fc",
   "metadata": {},
   "source": [
    "#### Схема Лакса-Вендроффа"
   ]
  },
  {
   "cell_type": "code",
   "execution_count": 267,
   "id": "99507c52",
   "metadata": {},
   "outputs": [
    {
     "data": {
      "image/png": "[encoded data removed]",
      "text/plain": [
       "<Figure size 600x600 with 1 Axes>"
      ]
     },
     "metadata": {},
     "output_type": "display_data"
    }
   ],
   "source": [
    "plot_log_err(0.01, 0.1, 0.01, lax_wendroff_ex_22)"
   ]
  }
 ],
 "metadata": {
  "kernelspec": {
   "display_name": "Python 3 (ipykernel)",
   "language": "python",
   "name": "python3"
  },
  "language_info": {
   "codemirror_mode": {
    "name": "ipython",
    "version": 3
   },
   "file_extension": ".py",
   "mimetype": "text/x-python",
   "name": "python",
   "nbconvert_exporter": "python",
   "pygments_lexer": "ipython3",
   "version": "3.9.12"
  }
 },
 "nbformat": 4,
 "nbformat_minor": 5
}
