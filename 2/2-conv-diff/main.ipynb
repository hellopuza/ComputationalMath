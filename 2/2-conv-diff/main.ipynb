{
 "cells": [
  {
   "cell_type": "markdown",
   "id": "349851de",
   "metadata": {},
   "source": [
    "# Лабораторная работа \"Задача конвекции-диффузии\""
   ]
  },
  {
   "cell_type": "code",
   "execution_count": 266,
   "id": "836f73b8",
   "metadata": {},
   "outputs": [],
   "source": [
    "import copy\n",
    "import numpy as np\n",
    "import matplotlib.pyplot as plt\n",
    "import math as m\n",
    "import threading as thr\n",
    "from ipywidgets import interact, widgets, interactive\n",
    "import warnings\n",
    "warnings.filterwarnings('ignore')\n",
    "\n",
    "class GridFunction:\n",
    "    def __init__(self, a, b, h, dim=1):\n",
    "        self.dim = dim\n",
    "        self.n = int((b - a) / h) + 1\n",
    "\n",
    "        self.a = a\n",
    "        self.b = a + h * (self.n - 1)\n",
    "        self.h = h\n",
    "\n",
    "        self.x = np.zeros(self.n)\n",
    "        for i in range(self.n):\n",
    "            self.x[i] = a + self.h * i\n",
    "\n",
    "        if self.dim == 0:\n",
    "            self.y = [[0]] * self.n\n",
    "        elif self.dim == 1:\n",
    "            self.y = np.zeros(self.n)\n",
    "        else:\n",
    "            np_list = []\n",
    "            for i in range(self.n):\n",
    "                np_list.append(np.zeros(self.dim))\n",
    "            self.y = np.asarray(np_list)\n",
    "\n",
    "    def calc(self, func, thread=False):\n",
    "        self.f = func\n",
    "\n",
    "        if thread:\n",
    "            def thread_calc(i):\n",
    "                self.y[i] = func(self.x[i])\n",
    "\n",
    "            threads = [\n",
    "                thr.Thread(target=thread_calc, args=(i,))\n",
    "                for i in range(self.x.size)\n",
    "            ]\n",
    "            for thread in threads:\n",
    "                thread.start()\n",
    "            for thread in threads:\n",
    "                thread.join()\n",
    "        else:\n",
    "            for i in range(self.x.size):\n",
    "                self.y[i] = func(self.x[i])\n",
    "\n",
    "    def calc_diff_eq(self, x0, dx, method):\n",
    "        self.y[0] = x0\n",
    "        method(self, dx)\n",
    "\n",
    "    def plot(self, axes='01', marker='', label='', title_str='', figsize=(9, 6), new=True, ext_plt=None):\n",
    "        if new and ext_plt is None:\n",
    "            fig, self.ax = plt.subplots(figsize=figsize)\n",
    "            self.ax.set(xlabel='x', ylabel='y', title=title_str)\n",
    "            self.ax.grid()\n",
    "\n",
    "        if ext_plt is not None:\n",
    "            self.ax = ext_plt\n",
    "\n",
    "        if self.dim == 0:\n",
    "            x = []\n",
    "            y = []\n",
    "            for i in range(self.n):\n",
    "                for j in range(len(self.y[i])):\n",
    "                    x.append(self.x[i])\n",
    "                    y.append(self.y[i][j])\n",
    "\n",
    "            if label == '':\n",
    "                self.ax.scatter(x, y, s=0.3)\n",
    "            else:\n",
    "                self.ax.scatter(x, y, s=0.3, label=label)\n",
    "                self.ax.legend()\n",
    "        else:\n",
    "            x = self.x\n",
    "            if axes[0] != '0':\n",
    "                x = self.y\n",
    "                if self.dim != 1:\n",
    "                    x = np.split(self.y, self.dim, 1)[int(axes[0]) - 1]\n",
    "\n",
    "            y = self.x\n",
    "            if axes[1] != '0':\n",
    "                y = self.y\n",
    "                if self.dim != 1:\n",
    "                    y = np.split(self.y, self.dim, 1)[int(axes[1]) - 1]\n",
    "\n",
    "            if label == '':\n",
    "                self.ax.plot(x, y, marker)\n",
    "            else:\n",
    "                self.ax.plot(x, y, marker, label = label)\n",
    "                self.ax.legend()\n",
    "\n",
    "def get_diff_coef(d, l, r): # f'(x_i) = sum k from -l to r (c_lr / h * f(x_i + k * h))\n",
    "    n = l + r + 1\n",
    "    A = np.zeros((n, n))\n",
    "    f = np.zeros((n, 1))\n",
    "    for i in range(n):\n",
    "        for j in range(n):\n",
    "            A[i][j] = (-l + j) ** i\n",
    "\n",
    "    f[d] = 1 / m.factorial(d)\n",
    "    return np.linalg.solve(A, f)\n",
    "\n",
    "class LogError(GridFunction):\n",
    "    def __init__(self, begin_h, end_h, step_h, true_x, dx):\n",
    "        super().__init__(begin_h, end_h, step_h)\n",
    "        self.dx = dx\n",
    "        self.true_x = true_x\n",
    "\n",
    "    def plot(self, title_str=''):\n",
    "        super().plot(title_str = title_str)\n",
    "        self.ax.set(xlabel='ln(h)', ylabel='ln(Err)')\n",
    "        k, b = np.polyfit(self.x, self.y, 1)\n",
    "\n",
    "        label_str = '{:.2f}*x + {:.2f}'.format(k, b)\n",
    "        self.ax.plot(self.x, k * self.x + b, 'r-', linewidth=0.5, label=label_str)\n",
    "        self.ax.legend()\n",
    "\n",
    "    def calc(self, a, b, x0, method, logarithm=False, dim=1, get_sol=None):\n",
    "        for i in range(self.n):\n",
    "            def default_solution():\n",
    "                gs = GridFunction(a, b, self.x[i], dim)\n",
    "                gs.calc_diff_eq(x0, self.dx, method)\n",
    "                return gs\n",
    "\n",
    "            grid_sol = default_solution() if get_sol is None else get_sol(self.x[i], method)\n",
    "\n",
    "            grid_true = GridFunction(a, b, self.x[i], dim)\n",
    "            grid_true.calc(self.true_x)\n",
    "\n",
    "            self.y[i] = np.amax(np.absolute(grid_sol.y - grid_true.y))\n",
    "\n",
    "            if logarithm:\n",
    "                self.x[i] = m.log(self.x[i])\n",
    "                self.y[i] = m.log(self.y[i])\n",
    "\n",
    "def tridiagonal(a, b, c, d):\n",
    "    nf = len(d)\n",
    "    for it in range(1, nf):\n",
    "        mc = a[it] / b[it - 1]\n",
    "        b[it] = b[it] - mc * c[it - 1]\n",
    "        d[it] = d[it] - mc * d[it - 1]\n",
    "\n",
    "    x = b\n",
    "    x[-1] = d[-1] / b[-1]\n",
    "    for il in range(nf - 2, -1, -1):\n",
    "        x[il] = (d[il] - c[il] * x[il + 1]) / b[il]\n",
    "\n",
    "    return x\n",
    "\n",
    "def get_sol(a, b, h, k, v, f, div, cond, fract, mon=False):\n",
    "    gf = GridFunction(a, b, h)\n",
    "    pe = GridFunction(a, b, h)\n",
    "\n",
    "    a_ = np.zeros(gf.n)\n",
    "    b_ = np.zeros(gf.n)\n",
    "    c_ = np.zeros(gf.n)\n",
    "    d_ = np.zeros(gf.n)\n",
    "\n",
    "    i = 1\n",
    "    while i < gf.n - 1:\n",
    "        h = gf.x[i + 1] - gf.x[i]\n",
    "        xp = (gf.x[i] + gf.x[i + 1]) / 2\n",
    "        xn = (gf.x[i] + gf.x[i - 1]) / 2\n",
    "        pe.y[i] = h * abs(v(xp)) / k(xp)\n",
    "        rho = 0\n",
    "\n",
    "        if (pe.y[i] > 2) and fract:\n",
    "            pe.y[i] = 1\n",
    "            h = k(xp) * pe.y[i] / abs(v(xp))\n",
    "\n",
    "            gf.x = np.insert(gf.x, i + 1, gf.x[i] + h)\n",
    "            gf.y = np.insert(gf.y, i + 1, 0)\n",
    "            pe.x = np.insert(pe.x, i + 1, gf.x[i] + h)\n",
    "            pe.y = np.insert(pe.y, i + 1, 0)\n",
    "\n",
    "            a_ = np.insert(a_, i + 1, 0)\n",
    "            b_ = np.insert(b_, i + 1, 0)\n",
    "            c_ = np.insert(c_, i + 1, 0)\n",
    "            d_ = np.insert(d_, i + 1, 0)\n",
    "\n",
    "            gf.n += 1\n",
    "            pe.n += 1\n",
    "            xp = (gf.x[i] + gf.x[i + 1]) / 2\n",
    "            xn = (gf.x[i] + gf.x[i - 1]) / 2\n",
    "        elif (pe.y[i] > 2) and mon:\n",
    "            rho = pe.y[i] / 2\n",
    "\n",
    "        vn = v(xn)\n",
    "        vp = v(xp)\n",
    "        kn = (1 + rho) * k(xn)\n",
    "        kp = (1 + rho) * k(xp)\n",
    "\n",
    "        if cond:\n",
    "            if div:\n",
    "                a_[i] = -(vn / 2 + kn / h) / h\n",
    "                b_[i] = ((vp - vn) / 2 + (kp + kn) / h) / h\n",
    "                c_[i] = -(-vp / 2 + kp / h) / h\n",
    "                d_[i] = f(gf.x[i])\n",
    "            else:\n",
    "                a_[i] = -(vn / 2 + kn / h) / h\n",
    "                b_[i] = ((vn - vp) / 2 + (kp + kn) / h) / h\n",
    "                c_[i] = -(-vp / 2 + kp / h) / h\n",
    "                d_[i] = f(gf.x[i])\n",
    "        else:\n",
    "            vpp = (v(xp) + abs(v(xp))) / 2\n",
    "            vnp = (v(xp) - abs(v(xp))) / 2\n",
    "            vpn = (v(xn) + abs(v(xn))) / 2\n",
    "            vnn = (v(xn) - abs(v(xn))) / 2\n",
    "\n",
    "            if div:\n",
    "                a_[i] = -(vpn / 2 + k(xn) / h) / h\n",
    "                b_[i] = ((vpp - vnn) / 2 + (k(xp) + k(xn)) / h) / h\n",
    "                c_[i] = -(-vnp / 2 + k(xp) / h) / h\n",
    "                d_[i] = f(gf.x[i])\n",
    "            else:\n",
    "                a_[i] = 0\n",
    "                b_[i] = 0\n",
    "                c_[i] = 0\n",
    "                d_[i] = f(gf.x[i])\n",
    "\n",
    "        i += 1\n",
    "\n",
    "    b_[0] = 1\n",
    "    b_[gf.n - 1] = 1\n",
    "\n",
    "    gf.y = tridiagonal(a_, b_, c_, d_)\n",
    "    return gf, pe"
   ]
  },
  {
   "cell_type": "markdown",
   "id": "6df4d136",
   "metadata": {},
   "source": [
    "В качастве уравнения возьмем\n",
    "$$\n",
    "\\begin{equation*}\n",
    "    \\begin{cases}\n",
    "    -\\frac{d}{dx}\\left(x\\frac{dy}{dx}\\right)+\\frac{d}{dx}\\left(\\frac{y}{x}\\right)=x\\\\\n",
    "    y(a)=y(5)=0 \\\\\n",
    "    \\end{cases}\n",
    "\\end{equation*}\n",
    "$$\n",
    "на отрезке $[0, 5]$. $\\\\$\n",
    "Решение $y(x)=\\frac{15}{2}e^{\\frac{-1}{x}+\\frac{1}{5}}-\\frac{x^2}{4}-\\frac{x}{4}$"
   ]
  },
  {
   "cell_type": "code",
   "execution_count": 267,
   "id": "231a3aa5",
   "metadata": {},
   "outputs": [
    {
     "data": {
      "image/png": "[encoded data removed]",
      "text/plain": [
       "<Figure size 900x600 with 1 Axes>"
      ]
     },
     "metadata": {},
     "output_type": "display_data"
    }
   ],
   "source": [
    "solut = lambda x: 15 / 2 * m.exp(-1 / x + 1 / 5) - x * x / 4 - x / 4\n",
    "a = 0\n",
    "b = 5\n",
    "gf_sol = GridFunction(a, b, 0.001)\n",
    "gf_sol.calc(solut)\n",
    "gf_sol.plot()\n",
    "\n",
    "k_x = lambda x: x\n",
    "v_x = lambda x: 1 / x\n",
    "f_x = lambda x: m.sin(4 * x) ** 2"
   ]
  },
  {
   "cell_type": "markdown",
   "id": "1f6e1922",
   "metadata": {},
   "source": [
    "## Условно монотонная схема"
   ]
  },
  {
   "cell_type": "code",
   "execution_count": 268,
   "id": "fc6de37a",
   "metadata": {},
   "outputs": [
    {
     "data": {
      "application/vnd.jupyter.widget-view+json": {
       "model_id": "ca7a5eada52a4d7892a77b7295967892",
       "version_major": 2,
       "version_minor": 0
      },
      "text/plain": [
       "interactive(children=(FloatSlider(value=0.1, description='h', max=0.1, min=0.0001, step=0.0001), ToggleButton(…"
      ]
     },
     "metadata": {},
     "output_type": "display_data"
    }
   ],
   "source": [
    "def draw_plot(h, fract):\n",
    "    gf, pe = get_sol(a, b, h, k_x, v_x, f_x, div=True, cond=True, fract=fract)\n",
    "    fig, axis = plt.subplots(2, 1, figsize=(10,5))\n",
    "    axis[0].set(title='y(x)')\n",
    "    axis[1].set(title='Pe(x)')\n",
    "    axis[0].grid()\n",
    "    axis[1].grid()\n",
    "    gf.plot(ext_plt=axis[0])\n",
    "    pe.plot(ext_plt=axis[1])\n",
    "\n",
    "widg = interactive(draw_plot, h=widgets.FloatSlider(min=0.0001,max=0.1,step=0.0001,value=0.1), fract=widgets.ToggleButton(value=False))\n",
    "widg"
   ]
  },
  {
   "cell_type": "code",
   "execution_count": 269,
   "id": "f3200030",
   "metadata": {},
   "outputs": [
    {
     "data": {
      "image/png": "[encoded data removed]",
      "text/plain": [
       "<Figure size 900x600 with 1 Axes>"
      ]
     },
     "metadata": {},
     "output_type": "display_data"
    }
   ],
   "source": [
    "solut_ = lambda x: m.sin(x) ** 2\n",
    "a_ = 0\n",
    "b_ = m.pi\n",
    "\n",
    "k_x_ = lambda x: (8 * x - m.sin(8 * x)) / (16 * m.sin(2 * x))\n",
    "v_x_ = lambda x: (8 * x - m.sin(8 * x)) / (8 * m.sin(x) ** 2)\n",
    "f_x_ = lambda x: m.sin(4 * x) ** 2\n",
    "\n",
    "logerr = LogError(0.001, 0.1, 0.001, None, None)\n",
    "for i in range(logerr.n):\n",
    "    gf, pe = get_sol(a_, b_, logerr.x[i], k_x_, v_x_, f_x_, div=True, cond=True, fract=False)\n",
    "    gt = copy.deepcopy(gf)\n",
    "    gt.calc(solut)\n",
    "    logerr.y[i] = -m.log(np.amax(np.absolute(gf.y - gt.y)))\n",
    "    logerr.x[i] = m.log(logerr.x[i])\n",
    "logerr.plot()\n"
   ]
  },
  {
   "cell_type": "markdown",
   "id": "501b1d5c",
   "metadata": {},
   "source": [
    "## Безусловно монотонная схема"
   ]
  },
  {
   "cell_type": "code",
   "execution_count": 270,
   "id": "33176def",
   "metadata": {},
   "outputs": [
    {
     "data": {
      "application/vnd.jupyter.widget-view+json": {
       "model_id": "b0cfa7868a1b497dafa47818bd4baad9",
       "version_major": 2,
       "version_minor": 0
      },
      "text/plain": [
       "interactive(children=(FloatSlider(value=0.1, description='h', max=0.15, min=0.0001, step=0.0001), ToggleButton…"
      ]
     },
     "metadata": {},
     "output_type": "display_data"
    }
   ],
   "source": [
    "def draw_plot(h, fract):\n",
    "    gf, pe = get_sol(a, b, h, k_x, v_x, f_x, div=True, cond=False, fract=fract)\n",
    "    fig, axis = plt.subplots(2, 1, figsize=(10,5))\n",
    "    axis[0].set(title='y(x)')\n",
    "    axis[1].set(title='Pe(x)')\n",
    "    axis[0].grid()\n",
    "    axis[1].grid()\n",
    "    gf.plot(ext_plt=axis[0])\n",
    "    pe.plot(ext_plt=axis[1])\n",
    "\n",
    "widg = interactive(draw_plot, h=widgets.FloatSlider(min=0.0001,max=0.15,step=0.0001,value=0.1), fract=widgets.ToggleButton(value=False))\n",
    "widg"
   ]
  },
  {
   "cell_type": "markdown",
   "id": "4af64287",
   "metadata": {},
   "source": [
    "## Монотонизированная схема"
   ]
  },
  {
   "cell_type": "code",
   "execution_count": 271,
   "id": "7907275e",
   "metadata": {},
   "outputs": [
    {
     "data": {
      "application/vnd.jupyter.widget-view+json": {
       "model_id": "e6060af2cf3a46f5837b4d163d348191",
       "version_major": 2,
       "version_minor": 0
      },
      "text/plain": [
       "interactive(children=(FloatSlider(value=0.1, description='h', max=0.1, min=0.0001, step=0.0001), Output()), _d…"
      ]
     },
     "metadata": {},
     "output_type": "display_data"
    }
   ],
   "source": [
    "def draw_plot(h):\n",
    "    gf, pe = get_sol(a, b, h, k_x, v_x, f_x, div=True, cond=True, fract=False, mon=True)\n",
    "    gf.plot(figsize=(9,4))\n",
    "\n",
    "widg = interactive(draw_plot, h=widgets.FloatSlider(min=0.0001,max=0.1,step=0.0001,value=0.1))\n",
    "widg"
   ]
  },
  {
   "cell_type": "code",
   "execution_count": null,
   "id": "ea484945",
   "metadata": {},
   "outputs": [],
   "source": []
  }
 ],
 "metadata": {
  "kernelspec": {
   "display_name": "Python 3 (ipykernel)",
   "language": "python",
   "name": "python3"
  },
  "language_info": {
   "codemirror_mode": {
    "name": "ipython",
    "version": 3
   },
   "file_extension": ".py",
   "mimetype": "text/x-python",
   "name": "python",
   "nbconvert_exporter": "python",
   "pygments_lexer": "ipython3",
   "version": "3.9.12"
  }
 },
 "nbformat": 4,
 "nbformat_minor": 5
}
