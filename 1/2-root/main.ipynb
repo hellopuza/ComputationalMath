{
 "cells": [
  {
   "cell_type": "markdown",
   "id": "744079e1",
   "metadata": {},
   "source": [
    "# Лабораторная работа \"Нахождение корня функции\""
   ]
  },
  {
   "cell_type": "markdown",
   "id": "4d6c60a0",
   "metadata": {},
   "source": [
    "В этой лабораторной работе мы найдем корень для выбранной функции на отрезке разными методами."
   ]
  },
  {
   "cell_type": "markdown",
   "id": "a1987944",
   "metadata": {},
   "source": [
    "Вспомогательный код для вычисления:"
   ]
  },
  {
   "cell_type": "code",
   "execution_count": 1,
   "id": "faff6b33",
   "metadata": {},
   "outputs": [],
   "source": [
    "import math as m\n",
    "import numpy as np\n",
    "\n",
    "def div_half(a, b, eps, func):\n",
    "    while b - a >= eps:\n",
    "        mid = (a + b) / 2\n",
    "        \n",
    "        if func(a) * func(mid) < 0:\n",
    "            b = mid\n",
    "        else:\n",
    "            a = mid\n",
    "        \n",
    "    return (a + b) / 2\n",
    "\n",
    "def newton(x, eps, f, df):\n",
    "    x1 = x - f(x) / df(x)\n",
    "    old_x = x\n",
    "    x = x1\n",
    "    p = 0\n",
    "\n",
    "    while m.fabs(x - old_x) >= eps:\n",
    "        x1 = x - f(x) / df(x)\n",
    "        p = (old_x - x1) / (x - x1)\n",
    "        old_x = x\n",
    "        x = x1\n",
    "\n",
    "    return (x1, p)\n",
    "\n",
    "def eq_system(x, y, eps, f, df):\n",
    "    Fxy = f(x, y)\n",
    "    dFxy = [[df[0][0](x, y), df[0][1](x, y)],\n",
    "            [df[1][0](x, y), df[1][1](x, y)]]\n",
    "\n",
    "    x1 = x - (Fxy[0] * dFxy[1][1] - Fxy[1] * dFxy[0][1]) / (dFxy[0][0] * dFxy[1][1] - dFxy[0][1] * dFxy[1][0])\n",
    "    y1 = y - (Fxy[1] * dFxy[0][0] - Fxy[0] * dFxy[1][0]) / (dFxy[0][0] * dFxy[1][1] - dFxy[0][1] * dFxy[1][0])\n",
    "    \n",
    "    if m.fabs(x - x1) < eps and m.fabs(y - y1) < eps:\n",
    "        return (x1, y1)\n",
    "    \n",
    "    return eq_system(x1, y1, eps, f, df)"
   ]
  },
  {
   "cell_type": "markdown",
   "id": "725bd3d9",
   "metadata": {},
   "source": [
    "## Решение нелинейного уравнения"
   ]
  },
  {
   "cell_type": "markdown",
   "id": "9f7f8e7b",
   "metadata": {},
   "source": [
    "В качестве функции возьмем $$f(x) = (cos(x)-x)^3$$\n",
    "на отрезке $$[0, 1]$$\n",
    "с точностью $$\\epsilon=0.0001$$"
   ]
  },
  {
   "cell_type": "code",
   "execution_count": 2,
   "id": "699a2516",
   "metadata": {},
   "outputs": [],
   "source": [
    "my_f = lambda x: m.pow(m.cos(x) - x, 3)\n",
    "my_df = lambda x: 2 * m.pow(m.cos(x) - x, 2) * (-1 - m.sin(x))\n",
    "\n",
    "a, b = 0, 1\n",
    "eps = 0.0001"
   ]
  },
  {
   "cell_type": "markdown",
   "id": "620cd18a",
   "metadata": {},
   "source": [
    "#### Метод деления пополам"
   ]
  },
  {
   "cell_type": "code",
   "execution_count": 3,
   "id": "16c560a3",
   "metadata": {},
   "outputs": [
    {
     "name": "stdout",
     "output_type": "stream",
     "text": [
      "корень = 0.739105224609375\n",
      "значение функции = -3.8018972130283396e-14\n"
     ]
    }
   ],
   "source": [
    "root = div_half(a, b, eps, my_f)\n",
    "print(\"корень =\", root)\n",
    "print(\"значение функции =\", my_f(root))"
   ]
  },
  {
   "cell_type": "markdown",
   "id": "7008d46a",
   "metadata": {},
   "source": [
    "#### Метод Ньютона"
   ]
  },
  {
   "cell_type": "code",
   "execution_count": 4,
   "id": "451c769a",
   "metadata": {},
   "outputs": [
    {
     "name": "stdout",
     "output_type": "stream",
     "text": [
      "корень = 0.7390334995602366\n",
      "значение функции = 6.452798676405708e-13\n",
      "кратность = 3.0001368631168113\n"
     ]
    }
   ],
   "source": [
    "root, p = newton((a + b) / 2, eps, my_f, my_df)\n",
    "print(\"корень =\", root)\n",
    "print(\"значение функции =\", my_f(root))\n",
    "print(\"кратность =\", p)"
   ]
  },
  {
   "cell_type": "markdown",
   "id": "58b66ed2",
   "metadata": {},
   "source": [
    "## Решение системы"
   ]
  },
  {
   "cell_type": "markdown",
   "id": "f530818f",
   "metadata": {},
   "source": [
    "В качестве системы возьмем\n",
    "\\begin{cases}\n",
    "    x e^y - y = 0 \\\\\n",
    "    x + cos(y) = 0\n",
    "\\end{cases}\n",
    " \n",
    "на множестве $$[-1, 1] \\times [-1, 1]$$\n",
    "с точностью $$\\epsilon=0.0001$$"
   ]
  },
  {
   "cell_type": "code",
   "execution_count": 5,
   "id": "3ab5d20d",
   "metadata": {},
   "outputs": [
    {
     "name": "stdout",
     "output_type": "stream",
     "text": [
      "корень = (-0.8689313178745428, -0.5177573636824583)\n",
      "значение функции = (-1.1102230246251565e-16, 0.0)\n"
     ]
    }
   ],
   "source": [
    "my_f = lambda x, y: (x * m.exp(y) - y, x + m.cos(y))\n",
    "\n",
    "my_df = [[lambda x, y: m.exp(y), lambda x, y: x * m.exp(y) - 1],\n",
    "         [lambda x, y: 1,        lambda x, y: -m.sin(y)]]\n",
    "\n",
    "eps = 0.0001\n",
    "\n",
    "x, y = eq_system(0, 0, eps, my_f, my_df)\n",
    "print(\"корень =\", (x, y))\n",
    "print(\"значение функции =\", my_f(x, y))"
   ]
  },
  {
   "cell_type": "code",
   "execution_count": null,
   "id": "d8e49583",
   "metadata": {},
   "outputs": [],
   "source": []
  }
 ],
 "metadata": {
  "kernelspec": {
   "display_name": "Python 3 (ipykernel)",
   "language": "python",
   "name": "python3"
  },
  "language_info": {
   "codemirror_mode": {
    "name": "ipython",
    "version": 3
   },
   "file_extension": ".py",
   "mimetype": "text/x-python",
   "name": "python",
   "nbconvert_exporter": "python",
   "pygments_lexer": "ipython3",
   "version": "3.9.12"
  }
 },
 "nbformat": 4,
 "nbformat_minor": 5
}
