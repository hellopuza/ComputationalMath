{
 "cells": [
  {
   "cell_type": "markdown",
   "id": "522a6882",
   "metadata": {},
   "source": [
    "# Лабораторная работа \"Решение СЛАУ\""
   ]
  },
  {
   "cell_type": "markdown",
   "id": "22b79cb7",
   "metadata": {},
   "source": [
    "В этой лабораторной работе мы найдем решение системы линейных алгебраических уравнений."
   ]
  },
  {
   "cell_type": "markdown",
   "id": "611b642d",
   "metadata": {},
   "source": [
    "Вспомогательный код для вычисления:"
   ]
  },
  {
   "cell_type": "code",
   "execution_count": 1,
   "id": "f2dd6245",
   "metadata": {},
   "outputs": [],
   "source": [
    "import math as m\n",
    "import numpy as np\n",
    "import random as r\n",
    "\n",
    "def set_matrix(A, diag):\n",
    "    for x in range(len(A)):\n",
    "        for y in range(len(A[x])):\n",
    "            A[x][y] = r.randint(-9, 9) + 10 * len(A) * (x == y) * diag\n",
    "    return A\n",
    "\n",
    "def gaussian(A, f):\n",
    "    A = A.copy()\n",
    "    f = f.copy()\n",
    "    x = np.zeros((len(A), 1))\n",
    "\n",
    "    for row in range(len(A) - 1):\n",
    "        ind = np.argmax(A[row:, row]) + row\n",
    "        A[row], A[ind] = A[ind].copy(), A[row].copy()\n",
    "        f[row], f[ind] = f[ind].copy(), f[row].copy()\n",
    "\n",
    "        for i in range(row + 1, len(A)):\n",
    "            a = A[i][row]\n",
    "            A[i] -= A[row] * a / A[row][row]\n",
    "            f[i] -= f[row] * a / A[row][row]\n",
    "\n",
    "    for row in range(len(A) - 1, -1, -1):\n",
    "        sum = 0\n",
    "        for i in range(row + 1, len(A)):\n",
    "            sum -= x[i] * A[row][i]\n",
    "\n",
    "        sum += f[row]\n",
    "        x[row] = sum / A[row][row]\n",
    "\n",
    "    return x\n",
    "\n",
    "def jacobi(A, f, eps):\n",
    "    x = np.zeros((len(A), 1))\n",
    "    nx = np.ones((len(A), 1))\n",
    "    iter_num = 0\n",
    "\n",
    "    while True:\n",
    "        x = nx.copy()\n",
    "\n",
    "        for i in range(len(A)):\n",
    "            sum = 0\n",
    "            for j in range(len(A)):\n",
    "                sum += A[i][j] * x[j] * (i != j)\n",
    "\n",
    "            nx[i] = (f[i] - sum) / A[i][i]\n",
    "\n",
    "        iter_num += 1\n",
    "        if max(np.absolute(x - nx)) < eps:\n",
    "            break\n",
    "\n",
    "    return x, iter_num\n",
    "\n",
    "def seidel(A, f, eps):\n",
    "    x = np.zeros((len(A), 1))\n",
    "    iter_num = 0\n",
    "\n",
    "    while True:\n",
    "        old_x = x.copy()\n",
    "\n",
    "        for i in range(len(A)):\n",
    "            sum = 0\n",
    "            for j in range(len(A)):\n",
    "                sum += A[i][j] * x[j] * (i != j)\n",
    "\n",
    "            x[i] = (f[i] - sum) / A[i][i]\n",
    "\n",
    "        iter_num += 1\n",
    "        if max(np.absolute(x - old_x)) < eps:\n",
    "            break\n",
    "\n",
    "    return x, iter_num\n",
    "\n",
    "def steepest_descent(A, f, eps):\n",
    "    f = np.dot(A.transpose(), f)\n",
    "    A = np.dot(A.transpose(), A)\n",
    "    x = np.zeros((len(A), 1))\n",
    "    iter_num = 0\n",
    "\n",
    "    while True:\n",
    "        old_x = x.copy()\n",
    "\n",
    "        r = np.dot(A, x) - f\n",
    "        tau = np.dot(r.transpose(), r) / np.dot(np.dot(A, r).transpose(), r)\n",
    "        x = x - tau * r\n",
    "\n",
    "        iter_num += 1\n",
    "        if max(np.absolute(x - old_x)) < eps:\n",
    "            break\n",
    "\n",
    "    return x, iter_num\n",
    "\n",
    "def min_discrepancy(A, f, eps):\n",
    "    f = np.dot(A.transpose(), f)\n",
    "    A = np.dot(A.transpose(), A)\n",
    "    x = np.zeros((len(A), 1))\n",
    "    iter_num = 0\n",
    "\n",
    "    while True:\n",
    "        old_x = x.copy()\n",
    "\n",
    "        r = np.dot(A, x) - f\n",
    "        Ar = np.dot(A, r)\n",
    "        tau = np.dot(Ar.transpose(), r) / np.dot(Ar.transpose(), Ar)\n",
    "        x = x - tau * r\n",
    "\n",
    "        iter_num += 1\n",
    "        if max(np.absolute(x - old_x)) < eps:\n",
    "            break\n",
    "\n",
    "    return x, iter_num\n",
    "\n",
    "def average_iterations(method, iter_n, mat_n, eps):\n",
    "    sum = 0\n",
    "\n",
    "    for i in range(iter_n):\n",
    "        A = set_matrix(np.zeros((mat_n, mat_n)), 1)\n",
    "        f = set_matrix(np.zeros((mat_n, 1)), 0)\n",
    "\n",
    "        sum += method(A, f, eps)[1]\n",
    "\n",
    "    return sum / iter_n"
   ]
  },
  {
   "cell_type": "markdown",
   "id": "5a88a545",
   "metadata": {},
   "source": [
    "## Решение СЛАУ"
   ]
  },
  {
   "cell_type": "markdown",
   "id": "aa6a2074",
   "metadata": {},
   "source": [
    "В качестве матрицы возьмем случайную с диагональным преобладанием чтобы работали все методы. \\\n",
    "Матрица размером $$100 \\times 100$$\n",
    "Для итерационных методов возьмем точность $$\\epsilon=10^{-10}$$"
   ]
  },
  {
   "cell_type": "code",
   "execution_count": 2,
   "id": "19cbc403",
   "metadata": {},
   "outputs": [],
   "source": [
    "n = 100\n",
    "eps = 1.0e-10\n",
    "\n",
    "A = set_matrix(np.zeros((n, n)), 1)\n",
    "f = set_matrix(np.zeros((n, 1)), 0)"
   ]
  },
  {
   "cell_type": "markdown",
   "id": "670b2f2e",
   "metadata": {},
   "source": [
    "Для проверки правильности решений СЛАУ вычисленных разными методами подставим их в систему."
   ]
  },
  {
   "cell_type": "markdown",
   "id": "61a9645f",
   "metadata": {},
   "source": [
    "### Метод Гаусса"
   ]
  },
  {
   "cell_type": "code",
   "execution_count": 3,
   "id": "998f6688",
   "metadata": {},
   "outputs": [
    {
     "name": "stdout",
     "output_type": "stream",
     "text": [
      "[1.42108547e-14]\n"
     ]
    }
   ],
   "source": [
    "x = gaussian(A, f)\n",
    "print(max(np.absolute(np.dot(A, x) - f)))"
   ]
  },
  {
   "cell_type": "markdown",
   "id": "51d2e490",
   "metadata": {},
   "source": [
    "### Метод Якоби"
   ]
  },
  {
   "cell_type": "code",
   "execution_count": 4,
   "id": "5f1e7af0",
   "metadata": {},
   "outputs": [
    {
     "name": "stdout",
     "output_type": "stream",
     "text": [
      "[6.40484576e-09]\n"
     ]
    }
   ],
   "source": [
    "x = jacobi(A, f, eps)[0]\n",
    "print(max(np.absolute(np.dot(A, x) - f)))"
   ]
  },
  {
   "cell_type": "markdown",
   "id": "4a54a6ed",
   "metadata": {},
   "source": [
    "### Метод Зейделя"
   ]
  },
  {
   "cell_type": "code",
   "execution_count": 5,
   "id": "870c3207",
   "metadata": {},
   "outputs": [
    {
     "name": "stdout",
     "output_type": "stream",
     "text": [
      "[2.03784545e-10]\n"
     ]
    }
   ],
   "source": [
    "x = seidel(A, f, eps)[0]\n",
    "print(max(np.absolute(np.dot(A, x) - f)))"
   ]
  },
  {
   "cell_type": "markdown",
   "id": "907c8db3",
   "metadata": {},
   "source": [
    "### Метод наискорейшего спуска"
   ]
  },
  {
   "cell_type": "code",
   "execution_count": 6,
   "id": "b15687b0",
   "metadata": {},
   "outputs": [
    {
     "name": "stdout",
     "output_type": "stream",
     "text": [
      "[9.49333989e-09]\n"
     ]
    }
   ],
   "source": [
    "x = steepest_descent(A, f, eps)[0]\n",
    "print(max(np.absolute(np.dot(A, x) - f)))"
   ]
  },
  {
   "cell_type": "markdown",
   "id": "f5867dcf",
   "metadata": {},
   "source": [
    "### Метод наименьших невязок"
   ]
  },
  {
   "cell_type": "code",
   "execution_count": 7,
   "id": "8d9ae2c1",
   "metadata": {},
   "outputs": [
    {
     "name": "stdout",
     "output_type": "stream",
     "text": [
      "[9.88704807e-09]\n"
     ]
    }
   ],
   "source": [
    "x = min_discrepancy(A, f, eps)[0]\n",
    "print(max(np.absolute(np.dot(A, x) - f)))"
   ]
  },
  {
   "cell_type": "markdown",
   "id": "b4a169bb",
   "metadata": {},
   "source": [
    "## Сравнение количества итераций"
   ]
  },
  {
   "cell_type": "markdown",
   "id": "5c6973cf",
   "metadata": {},
   "source": [
    "Сравним количество итераций для каждого метода."
   ]
  },
  {
   "cell_type": "code",
   "execution_count": 8,
   "id": "5d7a108e",
   "metadata": {},
   "outputs": [
    {
     "name": "stdout",
     "output_type": "stream",
     "text": [
      "Метод Якоби:  10.0\n",
      "Метод Зейделя:  7.0\n",
      "Метод наискорейшего спуска:  10.36\n",
      "Метод наименьших невязок:  10.4\n"
     ]
    }
   ],
   "source": [
    "iter_num = 50\n",
    "\n",
    "print(\"Метод Якоби: \", average_iterations(jacobi, iter_num, n, eps))\n",
    "print(\"Метод Зейделя: \", average_iterations(seidel, iter_num, n, eps))\n",
    "print(\"Метод наискорейшего спуска: \", average_iterations(steepest_descent, iter_num, n, eps))\n",
    "print(\"Метод наименьших невязок: \", average_iterations(min_discrepancy, iter_num, n, eps))"
   ]
  },
  {
   "cell_type": "code",
   "execution_count": null,
   "id": "582ea694",
   "metadata": {},
   "outputs": [],
   "source": []
  }
 ],
 "metadata": {
  "kernelspec": {
   "display_name": "Python 3 (ipykernel)",
   "language": "python",
   "name": "python3"
  },
  "language_info": {
   "codemirror_mode": {
    "name": "ipython",
    "version": 3
   },
   "file_extension": ".py",
   "mimetype": "text/x-python",
   "name": "python",
   "nbconvert_exporter": "python",
   "pygments_lexer": "ipython3",
   "version": "3.9.12"
  }
 },
 "nbformat": 4,
 "nbformat_minor": 5
}
